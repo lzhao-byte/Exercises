{
 "metadata": {
  "language_info": {
   "codemirror_mode": {
    "name": "ipython",
    "version": 3
   },
   "file_extension": ".py",
   "mimetype": "text/x-python",
   "name": "python",
   "nbconvert_exporter": "python",
   "pygments_lexer": "ipython3",
   "version": "3.7.6-final"
  },
  "orig_nbformat": 2,
  "kernelspec": {
   "name": "python_defaultSpec_1598932298235",
   "display_name": "Python 3.7.6 64-bit"
  }
 },
 "nbformat": 4,
 "nbformat_minor": 2,
 "cells": [
  {
   "cell_type": "markdown",
   "metadata": {},
   "source": [
    "# 10 Coin Flip Revisit from Lecture 4"
   ]
  },
  {
   "cell_type": "code",
   "execution_count": 2,
   "metadata": {},
   "outputs": [],
   "source": [
    "import pymc3 as pm \n",
    "import arviz as az \n",
    "import numpy as np\n",
    "\n",
    "import matplotlib.pyplot as plt\n",
    "%matplotlib inline"
   ]
  },
  {
   "cell_type": "code",
   "execution_count": 7,
   "metadata": {
    "tags": []
   },
   "outputs": [
    {
     "output_type": "stream",
     "name": "stderr",
     "text": "Auto-assigning NUTS sampler...\nInitializing NUTS using jitter+adapt_diag...\nMultiprocess sampling (4 chains in 4 jobs)\nNUTS: [p]\nSampling 4 chains, 0 divergences: 100%|██████████| 10000/10000 [00:03<00:00, 2718.96draws/s]\n"
    },
    {
     "output_type": "execute_result",
     "data": {
      "text/plain": "    mean     sd  hpd_3%  hpd_97%  mcse_mean  mcse_sd  ess_mean  ess_sd  \\\np  0.454  0.015   0.428    0.483        0.0      0.0    3504.0  3504.0   \n\n   ess_bulk  ess_tail  r_hat  \np    3514.0    5758.0    1.0  ",
      "text/html": "<div>\n<style scoped>\n    .dataframe tbody tr th:only-of-type {\n        vertical-align: middle;\n    }\n\n    .dataframe tbody tr th {\n        vertical-align: top;\n    }\n\n    .dataframe thead th {\n        text-align: right;\n    }\n</style>\n<table border=\"1\" class=\"dataframe\">\n  <thead>\n    <tr style=\"text-align: right;\">\n      <th></th>\n      <th>mean</th>\n      <th>sd</th>\n      <th>hpd_3%</th>\n      <th>hpd_97%</th>\n      <th>mcse_mean</th>\n      <th>mcse_sd</th>\n      <th>ess_mean</th>\n      <th>ess_sd</th>\n      <th>ess_bulk</th>\n      <th>ess_tail</th>\n      <th>r_hat</th>\n    </tr>\n  </thead>\n  <tbody>\n    <tr>\n      <th>p</th>\n      <td>0.454</td>\n      <td>0.015</td>\n      <td>0.428</td>\n      <td>0.483</td>\n      <td>0.0</td>\n      <td>0.0</td>\n      <td>3504.0</td>\n      <td>3504.0</td>\n      <td>3514.0</td>\n      <td>5758.0</td>\n      <td>1.0</td>\n    </tr>\n  </tbody>\n</table>\n</div>"
     },
     "metadata": {},
     "execution_count": 7
    }
   ],
   "source": [
    "# 10 coin fliped, 10 tails, probability of the head\n",
    "\n",
    "trials = 10\n",
    "observes = np.zeros((10,1))\n",
    "\n",
    "with pm.Model() as model:\n",
    "    prior = pm.Beta('p', alpha=500, beta=500)\n",
    "    x = pm.Binomial('x', n = trials, p = prior, observed = observes)\n",
    "\n",
    "    trace = pm.sample(2000)\n",
    "\n",
    "az.summary(trace)"
   ]
  },
  {
   "cell_type": "code",
   "execution_count": 10,
   "metadata": {
    "tags": []
   },
   "outputs": [
    {
     "output_type": "stream",
     "name": "stderr",
     "text": "Auto-assigning NUTS sampler...\nInitializing NUTS using jitter+adapt_diag...\nMultiprocess sampling (4 chains in 4 jobs)\nNUTS: [lambda]\nSampling 4 chains, 0 divergences: 100%|██████████| 6000/6000 [00:02<00:00, 2272.95draws/s]\n"
    },
    {
     "output_type": "execute_result",
     "data": {
      "text/plain": "         mean     sd  hpd_3%  hpd_97%  mcse_mean  mcse_sd  ess_mean  ess_sd  \\\nlambda  3.624  0.409    2.94    4.449      0.009    0.007    1921.0  1921.0   \n\n        ess_bulk  ess_tail  r_hat  \nlambda    1934.0    2980.0    1.0  ",
      "text/html": "<div>\n<style scoped>\n    .dataframe tbody tr th:only-of-type {\n        vertical-align: middle;\n    }\n\n    .dataframe tbody tr th {\n        vertical-align: top;\n    }\n\n    .dataframe thead th {\n        text-align: right;\n    }\n</style>\n<table border=\"1\" class=\"dataframe\">\n  <thead>\n    <tr style=\"text-align: right;\">\n      <th></th>\n      <th>mean</th>\n      <th>sd</th>\n      <th>hpd_3%</th>\n      <th>hpd_97%</th>\n      <th>mcse_mean</th>\n      <th>mcse_sd</th>\n      <th>ess_mean</th>\n      <th>ess_sd</th>\n      <th>ess_bulk</th>\n      <th>ess_tail</th>\n      <th>r_hat</th>\n    </tr>\n  </thead>\n  <tbody>\n    <tr>\n      <th>lambda</th>\n      <td>3.624</td>\n      <td>0.409</td>\n      <td>2.94</td>\n      <td>4.449</td>\n      <td>0.009</td>\n      <td>0.007</td>\n      <td>1921.0</td>\n      <td>1921.0</td>\n      <td>1934.0</td>\n      <td>2980.0</td>\n      <td>1.0</td>\n    </tr>\n  </tbody>\n</table>\n</div>"
     },
     "metadata": {},
     "execution_count": 10
    }
   ],
   "source": [
    "# Poisson - Gamma\n",
    "\n",
    "observes = [2, 0, 1, 5, 7, 1]\n",
    "\n",
    "with pm.Model() as model:\n",
    "    prior = pm.Gamma('lambda', mu = 4, sigma = 0.5)\n",
    "    x = pm.Poisson('x', mu = prior, observed = observes)\n",
    "    trace = pm.sample(1000)\n",
    "az.summary(trace)"
   ]
  },
  {
   "cell_type": "code",
   "execution_count": 14,
   "metadata": {
    "tags": []
   },
   "outputs": [
    {
     "output_type": "stream",
     "name": "stderr",
     "text": "Auto-assigning NUTS sampler...\nInitializing NUTS using jitter+adapt_diag...\nMultiprocess sampling (4 chains in 4 jobs)\nNUTS: [theta]\nSampling 4 chains, 0 divergences: 100%|██████████| 10000/10000 [00:03<00:00, 2819.13draws/s]\nThe acceptance probability does not match the target. It is 0.8803925193470464, but should be close to 0.8. Try to increase the number of tuning steps.\n"
    },
    {
     "output_type": "execute_result",
     "data": {
      "text/plain": "          mean     sd  hpd_3%  hpd_97%  mcse_mean  mcse_sd  ess_mean  ess_sd  \\\ntheta  102.639  6.834  89.464  114.922      0.125    0.088    2996.0  2994.0   \n\n       ess_bulk  ess_tail  r_hat  \ntheta    2997.0    5120.0    1.0  ",
      "text/html": "<div>\n<style scoped>\n    .dataframe tbody tr th:only-of-type {\n        vertical-align: middle;\n    }\n\n    .dataframe tbody tr th {\n        vertical-align: top;\n    }\n\n    .dataframe thead th {\n        text-align: right;\n    }\n</style>\n<table border=\"1\" class=\"dataframe\">\n  <thead>\n    <tr style=\"text-align: right;\">\n      <th></th>\n      <th>mean</th>\n      <th>sd</th>\n      <th>hpd_3%</th>\n      <th>hpd_97%</th>\n      <th>mcse_mean</th>\n      <th>mcse_sd</th>\n      <th>ess_mean</th>\n      <th>ess_sd</th>\n      <th>ess_bulk</th>\n      <th>ess_tail</th>\n      <th>r_hat</th>\n    </tr>\n  </thead>\n  <tbody>\n    <tr>\n      <th>theta</th>\n      <td>102.639</td>\n      <td>6.834</td>\n      <td>89.464</td>\n      <td>114.922</td>\n      <td>0.125</td>\n      <td>0.088</td>\n      <td>2996.0</td>\n      <td>2994.0</td>\n      <td>2997.0</td>\n      <td>5120.0</td>\n      <td>1.0</td>\n    </tr>\n  </tbody>\n</table>\n</div>"
     },
     "metadata": {},
     "execution_count": 14
    }
   ],
   "source": [
    "# IQ example (Normal-Normal)\n",
    "\n",
    "observes = [98]\n",
    "\n",
    "with pm.Model() as model:\n",
    "    prior = pm.Normal('theta', mu = 110, tau = 1./120)\n",
    "    x = pm.Normal('Jeremy', mu = prior, tau= 1./80, observed = observes)\n",
    "    trace = pm.sample(1000)\n",
    "az.summary(trace)"
   ]
  }
 ]
}