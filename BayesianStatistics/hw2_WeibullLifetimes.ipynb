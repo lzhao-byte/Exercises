{
 "metadata": {
  "language_info": {
   "codemirror_mode": {
    "name": "ipython",
    "version": 3
   },
   "file_extension": ".py",
   "mimetype": "text/x-python",
   "name": "python",
   "nbconvert_exporter": "python",
   "pygments_lexer": "ipython3",
   "version": "3.7.6-final"
  },
  "orig_nbformat": 2,
  "kernelspec": {
   "name": "python_defaultSpec_1599456209126",
   "display_name": "Python 3.7.6 64-bit ('gatech': conda)"
  }
 },
 "nbformat": 4,
 "nbformat_minor": 2,
 "cells": [
  {
   "cell_type": "markdown",
   "metadata": {},
   "source": [
    "# Weibull lifetimes"
   ]
  },
  {
   "cell_type": "code",
   "execution_count": 1,
   "metadata": {},
   "outputs": [],
   "source": [
    "import pymc3 as pm \n",
    "import arviz as az\n",
    "import numpy as np\n",
    "import matplotlib.pyplot as plt \n",
    "\n",
    "%matplotlib inline"
   ]
  },
  {
   "cell_type": "code",
   "execution_count": 3,
   "metadata": {
    "tags": []
   },
   "outputs": [
    {
     "output_type": "stream",
     "name": "stderr",
     "text": "Auto-assigning NUTS sampler...\nInitializing NUTS using jitter+adapt_diag...\nMultiprocess sampling (4 chains in 4 jobs)\nNUTS: [theta]\nSampling 4 chains, 0 divergences: 100%|██████████| 44000/44000 [00:11<00:00, 3688.11draws/s]\n"
    },
    {
     "output_type": "execute_result",
     "data": {
      "text/plain": "        mean     sd  hpd_3%  hpd_97%  mcse_mean  mcse_sd  ess_mean   ess_sd  \\\ntheta  0.154  0.077   0.029    0.296      0.001      0.0   19874.0  19874.0   \n\n       ess_bulk  ess_tail  r_hat  \ntheta   17506.0   18786.0    1.0  ",
      "text/html": "<div>\n<style scoped>\n    .dataframe tbody tr th:only-of-type {\n        vertical-align: middle;\n    }\n\n    .dataframe tbody tr th {\n        vertical-align: top;\n    }\n\n    .dataframe thead th {\n        text-align: right;\n    }\n</style>\n<table border=\"1\" class=\"dataframe\">\n  <thead>\n    <tr style=\"text-align: right;\">\n      <th></th>\n      <th>mean</th>\n      <th>sd</th>\n      <th>hpd_3%</th>\n      <th>hpd_97%</th>\n      <th>mcse_mean</th>\n      <th>mcse_sd</th>\n      <th>ess_mean</th>\n      <th>ess_sd</th>\n      <th>ess_bulk</th>\n      <th>ess_tail</th>\n      <th>r_hat</th>\n    </tr>\n  </thead>\n  <tbody>\n    <tr>\n      <th>theta</th>\n      <td>0.154</td>\n      <td>0.077</td>\n      <td>0.029</td>\n      <td>0.296</td>\n      <td>0.001</td>\n      <td>0.0</td>\n      <td>19874.0</td>\n      <td>19874.0</td>\n      <td>17506.0</td>\n      <td>18786.0</td>\n      <td>1.0</td>\n    </tr>\n  </tbody>\n</table>\n</div>"
     },
     "metadata": {},
     "execution_count": 3
    }
   ],
   "source": [
    "# weibull - exponential\n",
    "observes = [2, 3, 2]\n",
    "\n",
    "with pm.Model() as model:\n",
    "    prior = pm.Exponential('theta', lam = 2)\n",
    "    x = pm.Weibull('lifetime', alpha = 3, beta = prior**(-1/3), observed = observes)\n",
    "    trace = pm.sample(10000, tune = 1000)\n",
    "az.summary(trace)"
   ]
  },
  {
   "cell_type": "code",
   "execution_count": null,
   "metadata": {},
   "outputs": [],
   "source": []
  }
 ]
}