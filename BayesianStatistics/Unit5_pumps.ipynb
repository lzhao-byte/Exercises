{
 "metadata": {
  "language_info": {
   "codemirror_mode": {
    "name": "ipython",
    "version": 3
   },
   "file_extension": ".py",
   "mimetype": "text/x-python",
   "name": "python",
   "nbconvert_exporter": "python",
   "pygments_lexer": "ipython3",
   "version": "3.7.6-final"
  },
  "orig_nbformat": 2,
  "kernelspec": {
   "name": "python_defaultSpec_1600375442372",
   "display_name": "Python 3.7.6 64-bit ('gatech': conda)"
  }
 },
 "nbformat": 4,
 "nbformat_minor": 2,
 "cells": [
  {
   "cell_type": "code",
   "execution_count": 41,
   "metadata": {},
   "outputs": [],
   "source": [
    "import pymc3 as pm \n",
    "import arviz as az\n",
    "import matplotlib.pyplot as plt"
   ]
  },
  {
   "cell_type": "code",
   "execution_count": 42,
   "metadata": {
    "tags": []
   },
   "outputs": [
    {
     "output_type": "stream",
     "name": "stderr",
     "text": "Auto-assigning NUTS sampler...\nInitializing NUTS using jitter+adapt_diag...\nMultiprocess sampling (4 chains in 4 jobs)\nNUTS: [theta]\nSampling 4 chains, 0 divergences: 100%|██████████| 10000/10000 [00:03<00:00, 2698.97draws/s]\n"
    },
    {
     "output_type": "execute_result",
     "data": {
      "text/plain": "        mean     sd  hpd_3%  hpd_97%  mcse_mean  mcse_sd  ess_mean  ess_sd  \\\ntheta  1.306  0.942   -0.39    3.019      0.017    0.013    2949.0  2815.0   \n\n       ess_bulk  ess_tail  r_hat  \ntheta    3102.0    4185.0    1.0  ",
      "text/html": "<div>\n<style scoped>\n    .dataframe tbody tr th:only-of-type {\n        vertical-align: middle;\n    }\n\n    .dataframe tbody tr th {\n        vertical-align: top;\n    }\n\n    .dataframe thead th {\n        text-align: right;\n    }\n</style>\n<table border=\"1\" class=\"dataframe\">\n  <thead>\n    <tr style=\"text-align: right;\">\n      <th></th>\n      <th>mean</th>\n      <th>sd</th>\n      <th>hpd_3%</th>\n      <th>hpd_97%</th>\n      <th>mcse_mean</th>\n      <th>mcse_sd</th>\n      <th>ess_mean</th>\n      <th>ess_sd</th>\n      <th>ess_bulk</th>\n      <th>ess_tail</th>\n      <th>r_hat</th>\n    </tr>\n  </thead>\n  <tbody>\n    <tr>\n      <th>theta</th>\n      <td>1.306</td>\n      <td>0.942</td>\n      <td>-0.39</td>\n      <td>3.019</td>\n      <td>0.017</td>\n      <td>0.013</td>\n      <td>2949.0</td>\n      <td>2815.0</td>\n      <td>3102.0</td>\n      <td>4185.0</td>\n      <td>1.0</td>\n    </tr>\n  </tbody>\n</table>\n</div>"
     },
     "metadata": {},
     "execution_count": 42
    }
   ],
   "source": [
    "# Cauchy - Normal \n",
    "\n",
    "with pm.Model() as model:\n",
    "    prior = pm.Cauchy('theta', alpha = 0, beta = 1)\n",
    "    data = pm.Normal('x', mu = prior, sigma = 1, observed = 2)\n",
    "    trace = pm.sample(2000)\n",
    "az.summary(trace)"
   ]
  },
  {
   "cell_type": "code",
   "execution_count": 52,
   "metadata": {
    "tags": []
   },
   "outputs": [
    {
     "output_type": "stream",
     "name": "stderr",
     "text": "Auto-assigning NUTS sampler...\nInitializing NUTS using jitter+adapt_diag...\nMultiprocess sampling (4 chains in 4 jobs)\nNUTS: [theta, beta]\nSampling 4 chains, 2 divergences: 100%|██████████| 10000/10000 [00:04<00:00, 2217.87draws/s]\nThere was 1 divergence after tuning. Increase `target_accept` or reparameterize.\nThere was 1 divergence after tuning. Increase `target_accept` or reparameterize.\n"
    },
    {
     "output_type": "execute_result",
     "data": {
      "text/plain": "        mean     sd  hpd_3%  hpd_97%  mcse_mean  mcse_sd  ess_mean  ess_sd  \\\nbeta   1.097  1.015   0.002    2.960      0.013    0.009    6061.0  6061.0   \ntheta  0.039  0.004   0.031    0.047      0.000    0.000    4399.0  4336.0   \n\n       ess_bulk  ess_tail  r_hat  \nbeta     4705.0    3444.0    1.0  \ntheta    4541.0    4595.0    1.0  ",
      "text/html": "<div>\n<style scoped>\n    .dataframe tbody tr th:only-of-type {\n        vertical-align: middle;\n    }\n\n    .dataframe tbody tr th {\n        vertical-align: top;\n    }\n\n    .dataframe thead th {\n        text-align: right;\n    }\n</style>\n<table border=\"1\" class=\"dataframe\">\n  <thead>\n    <tr style=\"text-align: right;\">\n      <th></th>\n      <th>mean</th>\n      <th>sd</th>\n      <th>hpd_3%</th>\n      <th>hpd_97%</th>\n      <th>mcse_mean</th>\n      <th>mcse_sd</th>\n      <th>ess_mean</th>\n      <th>ess_sd</th>\n      <th>ess_bulk</th>\n      <th>ess_tail</th>\n      <th>r_hat</th>\n    </tr>\n  </thead>\n  <tbody>\n    <tr>\n      <th>beta</th>\n      <td>1.097</td>\n      <td>1.015</td>\n      <td>0.002</td>\n      <td>2.960</td>\n      <td>0.013</td>\n      <td>0.009</td>\n      <td>6061.0</td>\n      <td>6061.0</td>\n      <td>4705.0</td>\n      <td>3444.0</td>\n      <td>1.0</td>\n    </tr>\n    <tr>\n      <th>theta</th>\n      <td>0.039</td>\n      <td>0.004</td>\n      <td>0.031</td>\n      <td>0.047</td>\n      <td>0.000</td>\n      <td>0.000</td>\n      <td>4399.0</td>\n      <td>4336.0</td>\n      <td>4541.0</td>\n      <td>4595.0</td>\n      <td>1.0</td>\n    </tr>\n  </tbody>\n</table>\n</div>"
     },
     "metadata": {},
     "execution_count": 52
    }
   ],
   "source": [
    "#pumps\n",
    "ind = [1, 2, 3, 4, 5, 6, 7, 8, 9, 10]\n",
    "times = [94.32, 15.72, 62.88, 125.76, 5.24, 31.44, 1.048, 1.048, 2.096, 10.48]\n",
    "fails = [5,1,5,14,3,19,1,1,4,22]\n",
    "\n",
    "with pm.Model() as model:\n",
    "    beta = pm.Gamma('beta', alpha = 0.1, beta = 1)\n",
    "    theta = pm.Gamma('theta', alpha = 1, beta = beta)\n",
    "    data = [pm.Poisson('x' + str(i), mu = 1./(theta * t), observed = f) for i, t, f in zip(ind, times, fails)]\n",
    "    trace = pm.sample(2000)\n",
    "az.summary(trace)"
   ]
  },
  {
   "cell_type": "code",
   "execution_count": null,
   "metadata": {},
   "outputs": [],
   "source": []
  }
 ]
}